{
 "cells": [
  {
   "cell_type": "markdown",
   "metadata": {},
   "source": [
    "# pytesseract-tutorial\n",
    "\n",
    "- `image_to_string` : Tesseract OCR 결과를 문자열로 반환\n",
    "- `image_to_boxes` : Tesseract OCR 결과 인식된 문자와 경계를 반환\n",
    "- `image_to_data` : Tesseract OCR 결과 상자 경계, 신뢰도 등의 정보를 반환, Tesseract 3.05 이상의 버전 필요\n",
    "- `image_to_osd` :  오리엔테이션과 스크립트 탐지에 대한 정보가 들어있는 결과를 반환\n",
    "\n",
    "이 중 image_to_string을 주로 이용\n",
    "\n",
    "__image_to_string(image, lang=None, config='')__\n",
    "\n",
    "`image` : 인식시킬 이미지\n",
    "\n",
    "`lang` : 인식결과 나올 언어로 pytesseract 패키지 설치가 아닌 tesseract 프로그램 설치시 언어팩을 선택할 수 있다.\n",
    "\n",
    "`config`\n",
    "\n",
    "- psm 0-13 : page segmentation modes의 약자로 0->10으로 갈수록 단일 digit으로 간주, 11, 12는 텍스트로, 13은 가공되지 않은 여러줄의 문자열로 간주하여 OCR\n",
    "\n",
    "- oem 0-3 : 0(Legacy 엔진), 1(Neural nets LSTM 엔진), 2(Legacy 엔진 + LSTM 엔진), 3(기본값으로, 사용할 수 있는것을 사용)\n",
    "\n",
    "- config='-psm 0 -oem 0'과 같이 사용한다.\n",
    "\n",
    "[Google Tesseract Github](https://github.com/tesseract-ocr/tesseract)\n",
    "\n",
    "[Install Tesseract(Not pytesseract)](https://github.com/tesseract-ocr/tesseract/wiki)\n",
    "\n"
   ]
  },
  {
   "cell_type": "code",
   "execution_count": 1,
   "metadata": {},
   "outputs": [],
   "source": [
    "from matplotlib import pyplot as plt\n",
    "from PIL import Image\n",
    "from pytesseract import *\n",
    "from glob import glob\n",
    "import os, cv2"
   ]
  },
  {
   "cell_type": "code",
   "execution_count": 2,
   "metadata": {},
   "outputs": [],
   "source": [
    "def OCR(imgfile, lang='eng', config=\"\"):\n",
    "    im = Image.open(imgfile)\n",
    "    \n",
    "    if config == \"\":\n",
    "        text = image_to_string(im, lang=lang)\n",
    "        \n",
    "\n",
    "    print('+++ OCR Result +++')\n",
    "    print(text)"
   ]
  },
  {
   "cell_type": "code",
   "execution_count": 5,
   "metadata": {},
   "outputs": [],
   "source": [
    "img_dir = \"./data/ocr-test1.jpg\""
   ]
  },
  {
   "cell_type": "code",
   "execution_count": 6,
   "metadata": {
    "scrolled": true
   },
   "outputs": [
    {
     "name": "stdout",
     "output_type": "stream",
     "text": [
      "+++ OCR Result +++\n",
      "Existing System\n",
      "\n",
      "The existingtesseractOCR supports English language as\n",
      "default and also supports languages like Dutch, Spanish, Italian,\n",
      "French and German. All these languages are trained to\n",
      "tesseract OCR, but languages like Tamil, Malayalam are nut\n",
      "much trained to OCR‘ There are no GUI available for tesseract\n",
      "in tamii and training tesseract is a big task which an\n",
      "intermediate persons too feel complex for training it Since\n",
      "Tesseract OCR Engine is command line Tool, usage of OCR is\n",
      "much less.\n"
     ]
    }
   ],
   "source": [
    "OCR(img_dir)"
   ]
  },
  {
   "cell_type": "markdown",
   "metadata": {},
   "source": [
    "<img src=\"./Data/ocr-test1.png\" width=400></img>"
   ]
  },
  {
   "cell_type": "code",
   "execution_count": 16,
   "metadata": {
    "scrolled": true
   },
   "outputs": [
    {
     "data": {
      "text/plain": [
       "<matplotlib.image.AxesImage at 0x22ff808b6a0>"
      ]
     },
     "execution_count": 16,
     "metadata": {},
     "output_type": "execute_result"
    },
    {
     "data": {
      "image/png": "[encoded data removed]",
      "text/plain": [
       "<Figure size 432x288 with 1 Axes>"
      ]
     },
     "metadata": {},
     "output_type": "display_data"
    }
   ],
   "source": [
    "img = cv2.cvtColor(cv2.imread(img_dir), cv2.COLOR_BGR2RGB)\n",
    "part = img[30:75, 230:375]\n",
    "plt.imshow(part)"
   ]
  },
  {
   "cell_type": "markdown",
   "metadata": {},
   "source": [
    "### test config"
   ]
  },
  {
   "cell_type": "code",
   "execution_count": 22,
   "metadata": {},
   "outputs": [
    {
     "data": {
      "text/plain": [
       "'W'"
      ]
     },
     "execution_count": 22,
     "metadata": {},
     "output_type": "execute_result"
    }
   ],
   "source": [
    "image_to_string(part, lang=\"eng\", config=\"-psm 10\")"
   ]
  },
  {
   "cell_type": "code",
   "execution_count": 32,
   "metadata": {},
   "outputs": [
    {
     "name": "stdout",
     "output_type": "stream",
     "text": [
      "error in   0\n",
      "try at  1 and result is  Analysis\n",
      "error in   2\n",
      "try at  3 and result is  Analysis\n",
      "try at  4 and result is  Analysis\n",
      "try at  5 and result is  k.\n",
      "\n",
      "5\n",
      "\n",
      "IV\n",
      "a\n",
      "\n",
      "n\n",
      "\n",
      "A\n",
      "try at  6 and result is  Analysis\n",
      "try at  7 and result is  Analysis\n",
      "try at  8 and result is  Analysis\n",
      "try at  9 and result is  \n",
      "try at  10 and result is  W\n",
      "try at  11 and result is  Analysis\n",
      "try at  12 and result is  Analysis\n",
      "try at  13 and result is  Analysis\n"
     ]
    }
   ],
   "source": [
    "for i in range(14):\n",
    "    try:\n",
    "        string = image_to_string(part, lang=\"eng\", config=\"-psm \"+str(i))\n",
    "        print(\"try at \", i, \"and result is \", string)\n",
    "    except:\n",
    "        print(\"error in  \", i)"
   ]
  },
  {
   "cell_type": "code",
   "execution_count": null,
   "metadata": {},
   "outputs": [],
   "source": []
  }
 ],
 "metadata": {
  "kernelspec": {
   "display_name": "Python 3",
   "language": "python",
   "name": "python3"
  },
  "language_info": {
   "codemirror_mode": {
    "name": "ipython",
    "version": 3
   },
   "file_extension": ".py",
   "mimetype": "text/x-python",
   "name": "python",
   "nbconvert_exporter": "python",
   "pygments_lexer": "ipython3",
   "version": "3.6.5"
  }
 },
 "nbformat": 4,
 "nbformat_minor": 2
}
